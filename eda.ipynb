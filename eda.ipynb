{
 "cells": [
  {
   "cell_type": "markdown",
   "metadata": {},
   "source": [
    "# Setup"
   ]
  },
  {
   "cell_type": "code",
   "execution_count": 1,
   "metadata": {},
   "outputs": [],
   "source": [
    "%reload_ext autoreload\n",
    "%autoreload 2"
   ]
  },
  {
   "cell_type": "code",
   "execution_count": 2,
   "metadata": {},
   "outputs": [],
   "source": [
    "import module_mma\n",
    "\n",
    "import pandas as pd\n",
    "import numpy as np\n",
    "\n",
    "import sknetwork as skn\n",
    "from sknetwork.data import from_edge_list, from_adjacency_list, from_graphml, from_csv\n",
    "from sknetwork.visualization import svg_graph, svg_bigraph\n",
    "from scipy.sparse import csr_matrix\n",
    "from IPython.display import SVG"
   ]
  },
  {
   "cell_type": "code",
   "execution_count": 3,
   "metadata": {},
   "outputs": [
    {
     "name": "stdout",
     "output_type": "stream",
     "text": [
      "Number of fighters : 2139\n",
      "Number of fights : 6012\n"
     ]
    }
   ],
   "source": [
    "# get data\n",
    "df_fights = pd.read_csv(\"data\\data.csv\").loc[:, [\"R_fighter\", \"B_fighter\"]]\n",
    "df_fighters = pd.melt(df_fights).drop(columns=\"variable\"\n",
    "                ).rename(columns={\"value\":\"fighter\"}\n",
    "                ).groupby(\"fighter\"\n",
    "                ).agg({\"fighter\":\"count\"}\n",
    "                ).rename(columns={\"fighter\":\"count\"}\n",
    "                ).reset_index(\n",
    "                )\n",
    "\n",
    "print(\"Number of fighters : {}\\nNumber of fights : {}\".format(len(df_fighters), len(df_fights)))"
   ]
  },
  {
   "cell_type": "code",
   "execution_count": 4,
   "metadata": {},
   "outputs": [],
   "source": [
    "# create graph\n",
    "edge_list = list(df_fights.loc[:, [\"R_fighter\", \"B_fighter\"]].itertuples(index=False))\n",
    "graph = from_edge_list(edge_list)\n",
    "adjacency = graph.adjacency\n",
    "graph.node_weights = df_fighters[\"count\"].values"
   ]
  },
  {
   "cell_type": "markdown",
   "metadata": {},
   "source": [
    "# A fighter's path\n",
    "Idea : extract the subgraph representing the career of a fighter"
   ]
  },
  {
   "cell_type": "code",
   "execution_count": 5,
   "metadata": {},
   "outputs": [],
   "source": [
    "def get_fighterGraph(name, graph, max_order=2):\n",
    "\n",
    "    idx_name = np.where(graph[\"names\"] == name)[0][0]\n",
    "\n",
    "    opponents = np.where(graph.adjacency.getrow(idx_name).toarray())[1]\n",
    "    opponents = np.concatenate([opponents, np.array([idx_name])])\n",
    "    order = 1\n",
    "    while order<max_order:\n",
    "        order +=1\n",
    "    # find secondary opponents\n",
    "        opponents_nextOrder = np.where((graph.adjacency[opponents]).sum(axis=0))[1]\n",
    "        opponents = np.unique(np.concatenate([opponents, opponents_nextOrder]))\n",
    "    # slice graph : names, weights, adjacency_matrix\n",
    "\n",
    "    graph_name = graph.copy()\n",
    "    graph_name[\"names\"] = graph_name[\"names\"][opponents]\n",
    "    graph_name[\"node_weights\"] = graph_name[\"node_weights\"][opponents]\n",
    "    graph_name[\"adjacency\"] = csr_matrix(graph_name[\"adjacency\"][opponents].toarray()[:,opponents])\n",
    "    graph_name[\"labels\"] = (graph_name[\"names\"]==name).astype(int)\n",
    "    \n",
    "    return graph_name"
   ]
  },
  {
   "cell_type": "code",
   "execution_count": 6,
   "metadata": {},
   "outputs": [
    {
     "data": {
      "image/svg+xml": "<svg xmlns=\"http://www.w3.org/2000/svg\" width=\"1444.0\" height=\"1240\">\n<path stroke-width=\"1\" stroke=\"gray\" d=\"M 225 20 327 354\"/>\n<path stroke-width=\"1\" stroke=\"gray\" d=\"M 565 622 707 495\"/>\n<path stroke-width=\"1\" stroke=\"gray\" d=\"M 565 622 404 453\"/>\n<path stroke-width=\"1\" stroke=\"gray\" d=\"M 565 622 444 467\"/>\n<path stroke-width=\"1\" stroke=\"gray\" d=\"M 565 622 937 809\"/>\n<path stroke-width=\"1\" stroke=\"gray\" d=\"M 565 622 436 506\"/>\n<path stroke-width=\"1\" stroke=\"gray\" d=\"M 565 622 509 626\"/>\n<path stroke-width=\"1\" stroke=\"gray\" d=\"M 565 622 436 608\"/>\n<path stroke-width=\"1\" stroke=\"gray\" d=\"M 565 622 364 676\"/>\n<path stroke-width=\"1\" stroke=\"gray\" d=\"M 565 622 327 354\"/>\n<path stroke-width=\"1\" stroke=\"gray\" d=\"M 515 98 617 467\"/>\n<path stroke-width=\"1\" stroke=\"gray\" d=\"M 937 809 1062 958\"/>\n<path stroke-width=\"1\" stroke=\"gray\" d=\"M 937 809 565 622\"/>\n<path stroke-width=\"1\" stroke=\"gray\" d=\"M 937 809 628 611\"/>\n<path stroke-width=\"1\" stroke=\"gray\" d=\"M 937 809 1167 998\"/>\n<path stroke-width=\"1\" stroke=\"gray\" d=\"M 937 809 1220 901\"/>\n<path stroke-width=\"1\" stroke=\"gray\" d=\"M 937 809 1108 773\"/>\n<path stroke-width=\"1\" stroke=\"gray\" d=\"M 609 171 496 427\"/>\n<path stroke-width=\"1\" stroke=\"gray\" d=\"M 609 171 537 391\"/>\n<path stroke-width=\"1\" stroke=\"gray\" d=\"M 609 171 530 27\"/>\n<path stroke-width=\"1\" stroke=\"gray\" d=\"M 314 48 377 227\"/>\n<path stroke-width=\"1\" stroke=\"gray\" d=\"M 314 48 327 354\"/>\n<path stroke-width=\"1\" stroke=\"gray\" d=\"M 479 568 298 616\"/>\n<path stroke-width=\"1\" stroke=\"gray\" d=\"M 479 568 653 435\"/>\n<path stroke-width=\"1\" stroke=\"gray\" d=\"M 479 568 404 453\"/>\n<path stroke-width=\"1\" stroke=\"gray\" d=\"M 479 568 599 380\"/>\n<path stroke-width=\"1\" stroke=\"gray\" d=\"M 479 568 501 468\"/>\n<path stroke-width=\"1\" stroke=\"gray\" d=\"M 479 568 619 516\"/>\n<path stroke-width=\"1\" stroke=\"gray\" d=\"M 301 131 327 354\"/>\n<path stroke-width=\"1\" stroke=\"gray\" d=\"M 301 131 468 331\"/>\n<path stroke-width=\"1\" stroke=\"gray\" d=\"M 496 427 505 395\"/>\n<path stroke-width=\"1\" stroke=\"gray\" d=\"M 496 427 455 542\"/>\n<path stroke-width=\"1\" stroke=\"gray\" d=\"M 619 516 479 568\"/>\n<path stroke-width=\"1\" stroke=\"gray\" d=\"M 619 516 591 579\"/>\n<path stroke-width=\"1\" stroke=\"gray\" d=\"M 619 516 468 331\"/>\n<path stroke-width=\"1\" stroke=\"gray\" d=\"M 619 516 557 469\"/>\n<path stroke-width=\"1\" stroke=\"gray\" d=\"M 619 516 521 521\"/>\n<path stroke-width=\"1\" stroke=\"gray\" d=\"M 670 547 467 504\"/>\n<path stroke-width=\"1\" stroke=\"gray\" d=\"M 670 547 670 709\"/>\n<path stroke-width=\"1\" stroke=\"gray\" d=\"M 670 547 501 468\"/>\n<path stroke-width=\"1\" stroke=\"gray\" d=\"M 670 547 840 364\"/>\n<path stroke-width=\"1\" stroke=\"gray\" d=\"M 670 547 889 464\"/>\n<path stroke-width=\"1\" stroke=\"gray\" d=\"M 670 547 591 579\"/>\n<path stroke-width=\"1\" stroke=\"gray\" d=\"M 670 547 509 626\"/>\n<path stroke-width=\"1\" stroke=\"gray\" d=\"M 670 547 557 469\"/>\n<path stroke-width=\"1\" stroke=\"gray\" d=\"M 479 568 496 427\"/>\n<path stroke-width=\"1\" stroke=\"gray\" d=\"M 670 547 521 521\"/>\n<path stroke-width=\"1\" stroke=\"gray\" d=\"M 496 427 653 435\"/>\n<path stroke-width=\"1\" stroke=\"gray\" d=\"M 496 427 404 453\"/>\n<path stroke-width=\"1\" stroke=\"gray\" d=\"M 496 427 501 468\"/>\n<path stroke-width=\"1\" stroke=\"gray\" d=\"M 496 427 609 171\"/>\n<path stroke-width=\"1\" stroke=\"gray\" d=\"M 496 427 479 568\"/>\n<path stroke-width=\"1\" stroke=\"gray\" d=\"M 496 427 468 331\"/>\n<path stroke-width=\"1\" stroke=\"gray\" d=\"M 496 427 436 506\"/>\n<path stroke-width=\"1\" stroke=\"gray\" d=\"M 496 427 509 626\"/>\n<path stroke-width=\"1\" stroke=\"gray\" d=\"M 496 427 537 391\"/>\n<path stroke-width=\"1\" stroke=\"gray\" d=\"M 496 427 557 469\"/>\n<path stroke-width=\"1\" stroke=\"gray\" d=\"M 496 427 416 349\"/>\n<path stroke-width=\"1\" stroke=\"gray\" d=\"M 496 427 436 608\"/>\n<path stroke-width=\"1\" stroke=\"gray\" d=\"M 496 427 363 460\"/>\n<path stroke-width=\"1\" stroke=\"gray\" d=\"M 670 547 436 608\"/>\n<path stroke-width=\"1\" stroke=\"gray\" d=\"M 619 516 501 468\"/>\n<path stroke-width=\"1\" stroke=\"gray\" d=\"M 479 568 446 375\"/>\n<path stroke-width=\"1\" stroke=\"gray\" d=\"M 479 568 591 579\"/>\n<path stroke-width=\"1\" stroke=\"gray\" d=\"M 666 875 670 709\"/>\n<path stroke-width=\"1\" stroke=\"gray\" d=\"M 666 875 509 626\"/>\n<path stroke-width=\"1\" stroke=\"gray\" d=\"M 195 804 509 626\"/>\n<path stroke-width=\"1\" stroke=\"gray\" d=\"M 468 125 468 331\"/>\n<path stroke-width=\"1\" stroke=\"gray\" d=\"M 468 125 327 354\"/>\n<path stroke-width=\"1\" stroke=\"gray\" d=\"M 161 726 509 626\"/>\n<path stroke-width=\"1\" stroke=\"gray\" d=\"M 363 841 479 568\"/>\n<path stroke-width=\"1\" stroke=\"gray\" d=\"M 363 841 436 608\"/>\n<path stroke-width=\"1\" stroke=\"gray\" d=\"M 591 579 467 504\"/>\n<path stroke-width=\"1\" stroke=\"gray\" d=\"M 591 579 653 435\"/>\n<path stroke-width=\"1\" stroke=\"gray\" d=\"M 591 579 670 709\"/>\n<path stroke-width=\"1\" stroke=\"gray\" d=\"M 591 579 599 380\"/>\n<path stroke-width=\"1\" stroke=\"gray\" d=\"M 591 579 619 516\"/>\n<path stroke-width=\"1\" stroke=\"gray\" d=\"M 591 579 670 547\"/>\n<path stroke-width=\"1\" stroke=\"gray\" d=\"M 591 579 479 568\"/>\n<path stroke-width=\"1\" stroke=\"gray\" d=\"M 591 579 436 506\"/>\n<path stroke-width=\"1\" stroke=\"gray\" d=\"M 591 579 509 626\"/>\n<path stroke-width=\"1\" stroke=\"gray\" d=\"M 591 579 521 521\"/>\n<path stroke-width=\"1\" stroke=\"gray\" d=\"M 591 579 436 608\"/>\n<path stroke-width=\"1\" stroke=\"gray\" d=\"M 468 331 735 266\"/>\n<path stroke-width=\"1\" stroke=\"gray\" d=\"M 468 331 244 245\"/>\n<path stroke-width=\"1\" stroke=\"gray\" d=\"M 468 331 599 380\"/>\n<path stroke-width=\"1\" stroke=\"gray\" d=\"M 468 331 501 468\"/>\n<path stroke-width=\"1\" stroke=\"gray\" d=\"M 468 331 619 516\"/>\n<path stroke-width=\"1\" stroke=\"gray\" d=\"M 468 331 496 427\"/>\n<path stroke-width=\"1\" stroke=\"gray\" d=\"M 468 331 301 131\"/>\n<path stroke-width=\"1\" stroke=\"gray\" d=\"M 468 331 479 568\"/>\n<path stroke-width=\"1\" stroke=\"gray\" d=\"M 446 375 455 542\"/>\n<path stroke-width=\"1\" stroke=\"gray\" d=\"M 446 375 530 27\"/>\n<path stroke-width=\"1\" stroke=\"gray\" d=\"M 446 375 327 354\"/>\n<path stroke-width=\"1\" stroke=\"gray\" d=\"M 446 375 262 650\"/>\n<path stroke-width=\"1\" stroke=\"gray\" d=\"M 479 568 468 331\"/>\n<path stroke-width=\"1\" stroke=\"gray\" d=\"M 479 568 628 611\"/>\n<path stroke-width=\"1\" stroke=\"gray\" d=\"M 479 568 436 506\"/>\n<path stroke-width=\"1\" stroke=\"gray\" d=\"M 479 568 509 626\"/>\n<path stroke-width=\"1\" stroke=\"gray\" d=\"M 479 568 537 391\"/>\n<path stroke-width=\"1\" stroke=\"gray\" d=\"M 479 568 262 650\"/>\n<path stroke-width=\"1\" stroke=\"gray\" d=\"M 479 568 381 579\"/>\n<path stroke-width=\"1\" stroke=\"gray\" d=\"M 479 568 387 765\"/>\n<path stroke-width=\"1\" stroke=\"gray\" d=\"M 479 568 436 608\"/>\n<path stroke-width=\"1\" stroke=\"gray\" d=\"M 479 568 455 542\"/>\n<path stroke-width=\"1\" stroke=\"gray\" d=\"M 436 189 446 375\"/>\n<path stroke-width=\"1\" stroke=\"gray\" d=\"M 436 189 327 354\"/>\n<path stroke-width=\"1\" stroke=\"gray\" d=\"M 436 189 505 395\"/>\n<path stroke-width=\"1\" stroke=\"gray\" d=\"M 479 568 363 841\"/>\n<path stroke-width=\"1\" stroke=\"gray\" d=\"M 297 397 467 504\"/>\n<path stroke-width=\"1\" stroke=\"gray\" d=\"M 297 397 129 238\"/>\n<path stroke-width=\"1\" stroke=\"gray\" d=\"M 297 397 468 331\"/>\n<path stroke-width=\"1\" stroke=\"gray\" d=\"M 297 397 436 608\"/>\n<path stroke-width=\"1\" stroke=\"gray\" d=\"M 297 397 327 354\"/>\n<path stroke-width=\"1\" stroke=\"gray\" d=\"M 889 464 653 435\"/>\n<path stroke-width=\"1\" stroke=\"gray\" d=\"M 889 464 670 547\"/>\n<path stroke-width=\"1\" stroke=\"gray\" d=\"M 889 464 956 376\"/>\n<path stroke-width=\"1\" stroke=\"gray\" d=\"M 1087 1220 919 984\"/>\n<path stroke-width=\"1\" stroke=\"gray\" d=\"M 121 495 381 579\"/>\n<path stroke-width=\"1\" stroke=\"gray\" d=\"M 121 495 327 354\"/>\n<path stroke-width=\"1\" stroke=\"gray\" d=\"M 446 375 479 568\"/>\n<path stroke-width=\"1\" stroke=\"gray\" d=\"M 446 375 436 189\"/>\n<path stroke-width=\"1\" stroke=\"gray\" d=\"M 446 375 628 611\"/>\n<path stroke-width=\"1\" stroke=\"gray\" d=\"M 297 397 501 468\"/>\n<path stroke-width=\"1\" stroke=\"gray\" d=\"M 377 227 327 354\"/>\n<path stroke-width=\"1\" stroke=\"gray\" d=\"M 377 227 557 469\"/>\n<path stroke-width=\"1\" stroke=\"gray\" d=\"M 377 227 314 48\"/>\n<path stroke-width=\"1\" stroke=\"gray\" d=\"M 244 245 468 331\"/>\n<path stroke-width=\"1\" stroke=\"gray\" d=\"M 244 245 368 375\"/>\n<path stroke-width=\"1\" stroke=\"gray\" d=\"M 244 245 327 354\"/>\n<path stroke-width=\"1\" stroke=\"gray\" d=\"M 101 557 20 423\"/>\n<path stroke-width=\"1\" stroke=\"gray\" d=\"M 101 557 254 595\"/>\n<path stroke-width=\"1\" stroke=\"gray\" d=\"M 101 557 262 650\"/>\n<path stroke-width=\"1\" stroke=\"gray\" d=\"M 101 557 327 354\"/>\n<path stroke-width=\"1\" stroke=\"gray\" d=\"M 298 616 404 453\"/>\n<path stroke-width=\"1\" stroke=\"gray\" d=\"M 298 616 479 568\"/>\n<path stroke-width=\"1\" stroke=\"gray\" d=\"M 298 616 387 765\"/>\n<path stroke-width=\"1\" stroke=\"gray\" d=\"M 298 616 327 354\"/>\n<path stroke-width=\"1\" stroke=\"gray\" d=\"M 653 435 404 453\"/>\n<path stroke-width=\"1\" stroke=\"gray\" d=\"M 653 435 944 273\"/>\n<path stroke-width=\"1\" stroke=\"gray\" d=\"M 653 435 501 468\"/>\n<path stroke-width=\"1\" stroke=\"gray\" d=\"M 653 435 840 364\"/>\n<path stroke-width=\"1\" stroke=\"gray\" d=\"M 653 435 496 427\"/>\n<path stroke-width=\"1\" stroke=\"gray\" d=\"M 653 435 479 568\"/>\n<path stroke-width=\"1\" stroke=\"gray\" d=\"M 653 435 889 464\"/>\n<path stroke-width=\"1\" stroke=\"gray\" d=\"M 653 435 591 579\"/>\n<path stroke-width=\"1\" stroke=\"gray\" d=\"M 653 435 628 611\"/>\n<path stroke-width=\"1\" stroke=\"gray\" d=\"M 653 435 436 506\"/>\n<path stroke-width=\"1\" stroke=\"gray\" d=\"M 653 435 956 376\"/>\n<path stroke-width=\"1\" stroke=\"gray\" d=\"M 653 435 644 367\"/>\n<path stroke-width=\"1\" stroke=\"gray\" d=\"M 653 435 327 354\"/>\n<path stroke-width=\"1\" stroke=\"gray\" d=\"M 653 435 455 542\"/>\n<path stroke-width=\"1\" stroke=\"gray\" d=\"M 404 453 467 504\"/>\n<path stroke-width=\"1\" stroke=\"gray\" d=\"M 404 453 298 616\"/>\n<path stroke-width=\"1\" stroke=\"gray\" d=\"M 244 245 86 255\"/>\n<path stroke-width=\"1\" stroke=\"gray\" d=\"M 244 245 141 128\"/>\n<path stroke-width=\"1\" stroke=\"gray\" d=\"M 735 266 617 467\"/>\n<path stroke-width=\"1\" stroke=\"gray\" d=\"M 735 266 468 331\"/>\n<path stroke-width=\"1\" stroke=\"gray\" d=\"M 297 489 444 467\"/>\n<path stroke-width=\"1\" stroke=\"gray\" d=\"M 297 489 436 506\"/>\n<path stroke-width=\"1\" stroke=\"gray\" d=\"M 297 489 254 595\"/>\n<path stroke-width=\"1\" stroke=\"gray\" d=\"M 297 489 219 403\"/>\n<path stroke-width=\"1\" stroke=\"gray\" d=\"M 297 489 327 354\"/>\n<path stroke-width=\"1\" stroke=\"gray\" d=\"M 297 489 455 542\"/>\n<path stroke-width=\"1\" stroke=\"gray\" d=\"M 297 489 365 542\"/>\n<path stroke-width=\"1\" stroke=\"gray\" d=\"M 297 489 505 395\"/>\n<path stroke-width=\"1\" stroke=\"gray\" d=\"M 34 224 129 238\"/>\n<path stroke-width=\"1\" stroke=\"gray\" d=\"M 34 224 327 354\"/>\n<path stroke-width=\"1\" stroke=\"gray\" d=\"M 707 495 565 622\"/>\n<path stroke-width=\"1\" stroke=\"gray\" d=\"M 707 495 509 626\"/>\n<path stroke-width=\"1\" stroke=\"gray\" d=\"M 707 495 505 395\"/>\n<path stroke-width=\"1\" stroke=\"gray\" d=\"M 404 453 653 435\"/>\n<path stroke-width=\"1\" stroke=\"gray\" d=\"M 467 504 404 453\"/>\n<path stroke-width=\"1\" stroke=\"gray\" d=\"M 467 504 297 397\"/>\n<path stroke-width=\"1\" stroke=\"gray\" d=\"M 467 504 591 579\"/>\n<path stroke-width=\"1\" stroke=\"gray\" d=\"M 467 504 436 506\"/>\n<path stroke-width=\"1\" stroke=\"gray\" d=\"M 467 504 509 626\"/>\n<path stroke-width=\"1\" stroke=\"gray\" d=\"M 467 504 557 469\"/>\n<path stroke-width=\"1\" stroke=\"gray\" d=\"M 467 504 381 579\"/>\n<path stroke-width=\"1\" stroke=\"gray\" d=\"M 467 504 521 521\"/>\n<path stroke-width=\"1\" stroke=\"gray\" d=\"M 467 504 363 460\"/>\n<path stroke-width=\"1\" stroke=\"gray\" d=\"M 467 504 327 354\"/>\n<path stroke-width=\"1\" stroke=\"gray\" d=\"M 467 504 455 542\"/>\n<path stroke-width=\"1\" stroke=\"gray\" d=\"M 467 504 505 395\"/>\n<path stroke-width=\"1\" stroke=\"gray\" d=\"M 562 82 327 354\"/>\n<path stroke-width=\"1\" stroke=\"gray\" d=\"M 735 266 840 364\"/>\n<path stroke-width=\"1\" stroke=\"gray\" d=\"M 467 504 670 547\"/>\n<path stroke-width=\"1\" stroke=\"gray\" d=\"M 404 453 501 468\"/>\n<path stroke-width=\"1\" stroke=\"gray\" d=\"M 404 453 377 227\"/>\n<path stroke-width=\"1\" stroke=\"gray\" d=\"M 404 453 496 427\"/>\n<path stroke-width=\"1\" stroke=\"gray\" d=\"M 501 468 619 516\"/>\n<path stroke-width=\"1\" stroke=\"gray\" d=\"M 501 468 670 547\"/>\n<path stroke-width=\"1\" stroke=\"gray\" d=\"M 501 468 496 427\"/>\n<path stroke-width=\"1\" stroke=\"gray\" d=\"M 501 468 479 568\"/>\n<path stroke-width=\"1\" stroke=\"gray\" d=\"M 501 468 297 397\"/>\n<path stroke-width=\"1\" stroke=\"gray\" d=\"M 501 468 468 331\"/>\n<path stroke-width=\"1\" stroke=\"gray\" d=\"M 501 468 436 506\"/>\n<path stroke-width=\"1\" stroke=\"gray\" d=\"M 501 468 509 626\"/>\n<path stroke-width=\"1\" stroke=\"gray\" d=\"M 501 468 644 367\"/>\n<path stroke-width=\"1\" stroke=\"gray\" d=\"M 501 468 557 469\"/>\n<path stroke-width=\"1\" stroke=\"gray\" d=\"M 501 468 521 521\"/>\n<path stroke-width=\"1\" stroke=\"gray\" d=\"M 501 468 363 460\"/>\n<path stroke-width=\"1\" stroke=\"gray\" d=\"M 501 468 368 375\"/>\n<path stroke-width=\"1\" stroke=\"gray\" d=\"M 501 468 404 453\"/>\n<path stroke-width=\"1\" stroke=\"gray\" d=\"M 501 468 455 542\"/>\n<path stroke-width=\"1\" stroke=\"gray\" d=\"M 86 255 244 245\"/>\n<path stroke-width=\"1\" stroke=\"gray\" d=\"M 86 255 129 238\"/>\n<path stroke-width=\"1\" stroke=\"gray\" d=\"M 86 255 327 354\"/>\n<path stroke-width=\"1\" stroke=\"gray\" d=\"M 20 423 101 557\"/>\n<path stroke-width=\"1\" stroke=\"gray\" d=\"M 20 423 327 354\"/>\n<path stroke-width=\"1\" stroke=\"gray\" d=\"M 840 364 735 266\"/>\n<path stroke-width=\"1\" stroke=\"gray\" d=\"M 840 364 653 435\"/>\n<path stroke-width=\"1\" stroke=\"gray\" d=\"M 840 364 670 547\"/>\n<path stroke-width=\"1\" stroke=\"gray\" d=\"M 129 238 34 224\"/>\n<path stroke-width=\"1\" stroke=\"gray\" d=\"M 129 238 86 255\"/>\n<path stroke-width=\"1\" stroke=\"gray\" d=\"M 129 238 297 397\"/>\n<path stroke-width=\"1\" stroke=\"gray\" d=\"M 129 238 327 354\"/>\n<path stroke-width=\"1\" stroke=\"gray\" d=\"M 377 227 404 453\"/>\n<path stroke-width=\"1\" stroke=\"gray\" d=\"M 501 468 365 542\"/>\n<path stroke-width=\"1\" stroke=\"gray\" d=\"M 468 331 297 397\"/>\n<path stroke-width=\"1\" stroke=\"gray\" d=\"M 501 468 653 435\"/>\n<path stroke-width=\"1\" stroke=\"gray\" d=\"M 596 775 509 626\"/>\n<path stroke-width=\"1\" stroke=\"gray\" d=\"M 404 453 565 622\"/>\n<path stroke-width=\"1\" stroke=\"gray\" d=\"M 404 453 479 568\"/>\n<path stroke-width=\"1\" stroke=\"gray\" d=\"M 404 453 167 486\"/>\n<path stroke-width=\"1\" stroke=\"gray\" d=\"M 404 453 534 268\"/>\n<path stroke-width=\"1\" stroke=\"gray\" d=\"M 404 453 436 608\"/>\n<path stroke-width=\"1\" stroke=\"gray\" d=\"M 404 453 363 460\"/>\n<path stroke-width=\"1\" stroke=\"gray\" d=\"M 404 453 368 375\"/>\n<path stroke-width=\"1\" stroke=\"gray\" d=\"M 404 453 327 354\"/>\n<path stroke-width=\"1\" stroke=\"gray\" d=\"M 404 453 455 542\"/>\n<path stroke-width=\"1\" stroke=\"gray\" d=\"M 404 453 365 542\"/>\n<path stroke-width=\"1\" stroke=\"gray\" d=\"M 670 709 670 547\"/>\n<path stroke-width=\"1\" stroke=\"gray\" d=\"M 670 709 666 875\"/>\n<path stroke-width=\"1\" stroke=\"gray\" d=\"M 670 709 591 579\"/>\n<path stroke-width=\"1\" stroke=\"gray\" d=\"M 596 775 617 467\"/>\n<path stroke-width=\"1\" stroke=\"gray\" d=\"M 670 709 509 626\"/>\n<path stroke-width=\"1\" stroke=\"gray\" d=\"M 944 273 653 435\"/>\n<path stroke-width=\"1\" stroke=\"gray\" d=\"M 599 380 479 568\"/>\n<path stroke-width=\"1\" stroke=\"gray\" d=\"M 599 380 591 579\"/>\n<path stroke-width=\"1\" stroke=\"gray\" d=\"M 599 380 468 331\"/>\n<path stroke-width=\"1\" stroke=\"gray\" d=\"M 599 380 416 349\"/>\n<path stroke-width=\"1\" stroke=\"gray\" d=\"M 444 467 297 489\"/>\n<path stroke-width=\"1\" stroke=\"gray\" d=\"M 444 467 565 622\"/>\n<path stroke-width=\"1\" stroke=\"gray\" d=\"M 444 467 509 626\"/>\n<path stroke-width=\"1\" stroke=\"gray\" d=\"M 444 467 537 391\"/>\n<path stroke-width=\"1\" stroke=\"gray\" d=\"M 444 467 617 467\"/>\n<path stroke-width=\"1\" stroke=\"gray\" d=\"M 444 467 327 354\"/>\n<path stroke-width=\"1\" stroke=\"gray\" d=\"M 495 927 455 542\"/>\n<path stroke-width=\"1\" stroke=\"gray\" d=\"M 1062 958 937 809\"/>\n<path stroke-width=\"1\" stroke=\"gray\" d=\"M 670 709 557 469\"/>\n<path stroke-width=\"1\" stroke=\"gray\" d=\"M 468 331 468 125\"/>\n<path stroke-width=\"1\" stroke=\"gray\" d=\"M 468 331 644 367\"/>\n<path stroke-width=\"1\" stroke=\"gray\" d=\"M 468 331 557 469\"/>\n<path stroke-width=\"1\" stroke=\"gray\" d=\"M 368 375 501 468\"/>\n<path stroke-width=\"1\" stroke=\"gray\" d=\"M 368 375 468 331\"/>\n<path stroke-width=\"1\" stroke=\"gray\" d=\"M 368 375 436 506\"/>\n<path stroke-width=\"1\" stroke=\"gray\" d=\"M 368 375 381 579\"/>\n<path stroke-width=\"1\" stroke=\"gray\" d=\"M 368 375 521 521\"/>\n<path stroke-width=\"1\" stroke=\"gray\" d=\"M 617 467 735 266\"/>\n<path stroke-width=\"1\" stroke=\"gray\" d=\"M 617 467 444 467\"/>\n<path stroke-width=\"1\" stroke=\"gray\" d=\"M 617 467 596 775\"/>\n<path stroke-width=\"1\" stroke=\"gray\" d=\"M 617 467 515 98\"/>\n<path stroke-width=\"1\" stroke=\"gray\" d=\"M 617 467 628 611\"/>\n<path stroke-width=\"1\" stroke=\"gray\" d=\"M 617 467 254 595\"/>\n<path stroke-width=\"1\" stroke=\"gray\" d=\"M 617 467 534 268\"/>\n<path stroke-width=\"1\" stroke=\"gray\" d=\"M 617 467 772 591\"/>\n<path stroke-width=\"1\" stroke=\"gray\" d=\"M 617 467 505 395\"/>\n<path stroke-width=\"1\" stroke=\"gray\" d=\"M 617 467 937 633\"/>\n<path stroke-width=\"1\" stroke=\"gray\" d=\"M 327 354 141 128\"/>\n<path stroke-width=\"1\" stroke=\"gray\" d=\"M 327 354 297 489\"/>\n<path stroke-width=\"1\" stroke=\"gray\" d=\"M 327 354 34 224\"/>\n<path stroke-width=\"1\" stroke=\"gray\" d=\"M 327 354 467 504\"/>\n<path stroke-width=\"1\" stroke=\"gray\" d=\"M 327 354 562 82\"/>\n<path stroke-width=\"1\" stroke=\"gray\" d=\"M 327 354 244 245\"/>\n<path stroke-width=\"1\" stroke=\"gray\" d=\"M 327 354 101 557\"/>\n<path stroke-width=\"1\" stroke=\"gray\" d=\"M 327 354 298 616\"/>\n<path stroke-width=\"1\" stroke=\"gray\" d=\"M 327 354 653 435\"/>\n<path stroke-width=\"1\" stroke=\"gray\" d=\"M 327 354 404 453\"/>\n<path stroke-width=\"1\" stroke=\"gray\" d=\"M 327 354 444 467\"/>\n<path stroke-width=\"1\" stroke=\"gray\" d=\"M 327 354 86 255\"/>\n<path stroke-width=\"1\" stroke=\"gray\" d=\"M 368 375 404 453\"/>\n<path stroke-width=\"1\" stroke=\"gray\" d=\"M 368 375 244 245\"/>\n<path stroke-width=\"1\" stroke=\"gray\" d=\"M 363 460 455 542\"/>\n<path stroke-width=\"1\" stroke=\"gray\" d=\"M 363 460 327 354\"/>\n<path stroke-width=\"1\" stroke=\"gray\" d=\"M 387 765 509 626\"/>\n<path stroke-width=\"1\" stroke=\"gray\" d=\"M 387 765 436 608\"/>\n<path stroke-width=\"1\" stroke=\"gray\" d=\"M 387 765 364 676\"/>\n<path stroke-width=\"1\" stroke=\"gray\" d=\"M 436 608 404 453\"/>\n<path stroke-width=\"1\" stroke=\"gray\" d=\"M 436 608 670 547\"/>\n<path stroke-width=\"1\" stroke=\"gray\" d=\"M 436 608 496 427\"/>\n<path stroke-width=\"1\" stroke=\"gray\" d=\"M 436 608 565 622\"/>\n<path stroke-width=\"1\" stroke=\"gray\" d=\"M 436 608 479 568\"/>\n<path stroke-width=\"1\" stroke=\"gray\" d=\"M 436 608 297 397\"/>\n<path stroke-width=\"1\" stroke=\"gray\" d=\"M 436 608 363 841\"/>\n<path stroke-width=\"1\" stroke=\"gray\" d=\"M 436 608 591 579\"/>\n<path stroke-width=\"1\" stroke=\"gray\" d=\"M 436 608 381 579\"/>\n<path stroke-width=\"1\" stroke=\"gray\" d=\"M 436 608 521 521\"/>\n<path stroke-width=\"1\" stroke=\"gray\" d=\"M 327 354 20 423\"/>\n<path stroke-width=\"1\" stroke=\"gray\" d=\"M 436 608 387 765\"/>\n<path stroke-width=\"1\" stroke=\"gray\" d=\"M 436 608 455 542\"/>\n<path stroke-width=\"1\" stroke=\"gray\" d=\"M 364 676 565 622\"/>\n<path stroke-width=\"1\" stroke=\"gray\" d=\"M 364 676 387 765\"/>\n<path stroke-width=\"1\" stroke=\"gray\" d=\"M 364 676 327 354\"/>\n<path stroke-width=\"1\" stroke=\"gray\" d=\"M 364 676 455 542\"/>\n<path stroke-width=\"1\" stroke=\"gray\" d=\"M 1108 773 937 809\"/>\n<path stroke-width=\"1\" stroke=\"gray\" d=\"M 1108 773 937 633\"/>\n<path stroke-width=\"1\" stroke=\"gray\" d=\"M 363 460 467 504\"/>\n<path stroke-width=\"1\" stroke=\"gray\" d=\"M 363 460 404 453\"/>\n<path stroke-width=\"1\" stroke=\"gray\" d=\"M 363 460 501 468\"/>\n<path stroke-width=\"1\" stroke=\"gray\" d=\"M 363 460 496 427\"/>\n<path stroke-width=\"1\" stroke=\"gray\" d=\"M 363 460 468 331\"/>\n<path stroke-width=\"1\" stroke=\"gray\" d=\"M 363 460 381 579\"/>\n<path stroke-width=\"1\" stroke=\"gray\" d=\"M 436 608 327 354\"/>\n<path stroke-width=\"1\" stroke=\"gray\" d=\"M 327 354 129 238\"/>\n<path stroke-width=\"1\" stroke=\"gray\" d=\"M 327 354 377 227\"/>\n<path stroke-width=\"1\" stroke=\"gray\" d=\"M 327 354 301 131\"/>\n<path stroke-width=\"1\" stroke=\"gray\" d=\"M 455 542 436 608\"/>\n<path stroke-width=\"1\" stroke=\"gray\" d=\"M 455 542 364 676\"/>\n<path stroke-width=\"1\" stroke=\"gray\" d=\"M 455 542 363 460\"/>\n<path stroke-width=\"1\" stroke=\"gray\" d=\"M 455 542 327 354\"/>\n<path stroke-width=\"1\" stroke=\"gray\" d=\"M 455 542 365 542\"/>\n<path stroke-width=\"1\" stroke=\"gray\" d=\"M 455 542 505 395\"/>\n<path stroke-width=\"1\" stroke=\"gray\" d=\"M 365 542 297 489\"/>\n<path stroke-width=\"1\" stroke=\"gray\" d=\"M 365 542 404 453\"/>\n<path stroke-width=\"1\" stroke=\"gray\" d=\"M 365 542 501 468\"/>\n<path stroke-width=\"1\" stroke=\"gray\" d=\"M 365 542 436 506\"/>\n<path stroke-width=\"1\" stroke=\"gray\" d=\"M 365 542 509 626\"/>\n<path stroke-width=\"1\" stroke=\"gray\" d=\"M 365 542 537 391\"/>\n<path stroke-width=\"1\" stroke=\"gray\" d=\"M 365 542 455 542\"/>\n<path stroke-width=\"1\" stroke=\"gray\" d=\"M 455 542 416 349\"/>\n<path stroke-width=\"1\" stroke=\"gray\" d=\"M 505 395 297 489\"/>\n<path stroke-width=\"1\" stroke=\"gray\" d=\"M 505 395 467 504\"/>\n<path stroke-width=\"1\" stroke=\"gray\" d=\"M 505 395 496 427\"/>\n<path stroke-width=\"1\" stroke=\"gray\" d=\"M 505 395 436 189\"/>\n<path stroke-width=\"1\" stroke=\"gray\" d=\"M 505 395 436 506\"/>\n<path stroke-width=\"1\" stroke=\"gray\" d=\"M 505 395 509 626\"/>\n<path stroke-width=\"1\" stroke=\"gray\" d=\"M 505 395 534 268\"/>\n<path stroke-width=\"1\" stroke=\"gray\" d=\"M 505 395 537 391\"/>\n<path stroke-width=\"1\" stroke=\"gray\" d=\"M 505 395 617 467\"/>\n<path stroke-width=\"1\" stroke=\"gray\" d=\"M 505 395 455 542\"/>\n<path stroke-width=\"1\" stroke=\"gray\" d=\"M 937 633 1108 773\"/>\n<path stroke-width=\"1\" stroke=\"gray\" d=\"M 937 633 617 467\"/>\n<path stroke-width=\"1\" stroke=\"gray\" d=\"M 712 75 537 391\"/>\n<path stroke-width=\"1\" stroke=\"gray\" d=\"M 1101 1154 919 984\"/>\n<path stroke-width=\"1\" stroke=\"gray\" d=\"M 505 395 707 495\"/>\n<path stroke-width=\"1\" stroke=\"gray\" d=\"M 387 765 479 568\"/>\n<path stroke-width=\"1\" stroke=\"gray\" d=\"M 455 542 537 391\"/>\n<path stroke-width=\"1\" stroke=\"gray\" d=\"M 455 542 628 611\"/>\n<path stroke-width=\"1\" stroke=\"gray\" d=\"M 327 354 565 622\"/>\n<path stroke-width=\"1\" stroke=\"gray\" d=\"M 327 354 314 48\"/>\n<path stroke-width=\"1\" stroke=\"gray\" d=\"M 327 354 436 189\"/>\n<path stroke-width=\"1\" stroke=\"gray\" d=\"M 327 354 297 397\"/>\n<path stroke-width=\"1\" stroke=\"gray\" d=\"M 327 354 121 495\"/>\n<path stroke-width=\"1\" stroke=\"gray\" d=\"M 327 354 446 375\"/>\n<path stroke-width=\"1\" stroke=\"gray\" d=\"M 327 354 468 125\"/>\n<path stroke-width=\"1\" stroke=\"gray\" d=\"M 327 354 468 331\"/>\n<path stroke-width=\"1\" stroke=\"gray\" d=\"M 327 354 628 611\"/>\n<path stroke-width=\"1\" stroke=\"gray\" d=\"M 327 354 436 506\"/>\n<path stroke-width=\"1\" stroke=\"gray\" d=\"M 327 354 521 521\"/>\n<path stroke-width=\"1\" stroke=\"gray\" d=\"M 327 354 436 608\"/>\n<path stroke-width=\"1\" stroke=\"gray\" d=\"M 327 354 364 676\"/>\n<path stroke-width=\"1\" stroke=\"gray\" d=\"M 455 542 436 506\"/>\n<path stroke-width=\"1\" stroke=\"gray\" d=\"M 327 354 363 460\"/>\n<path stroke-width=\"1\" stroke=\"gray\" d=\"M 327 354 225 20\"/>\n<path stroke-width=\"1\" stroke=\"gray\" d=\"M 530 27 609 171\"/>\n<path stroke-width=\"1\" stroke=\"gray\" d=\"M 530 27 446 375\"/>\n<path stroke-width=\"1\" stroke=\"gray\" d=\"M 455 542 297 489\"/>\n<path stroke-width=\"1\" stroke=\"gray\" d=\"M 455 542 467 504\"/>\n<path stroke-width=\"1\" stroke=\"gray\" d=\"M 455 542 653 435\"/>\n<path stroke-width=\"1\" stroke=\"gray\" d=\"M 455 542 404 453\"/>\n<path stroke-width=\"1\" stroke=\"gray\" d=\"M 455 542 495 927\"/>\n<path stroke-width=\"1\" stroke=\"gray\" d=\"M 455 542 501 468\"/>\n<path stroke-width=\"1\" stroke=\"gray\" d=\"M 455 542 496 427\"/>\n<path stroke-width=\"1\" stroke=\"gray\" d=\"M 455 542 479 568\"/>\n<path stroke-width=\"1\" stroke=\"gray\" d=\"M 455 542 446 375\"/>\n<path stroke-width=\"1\" stroke=\"gray\" d=\"M 455 542 468 331\"/>\n<path stroke-width=\"1\" stroke=\"gray\" d=\"M 327 354 455 542\"/>\n<path stroke-width=\"1\" stroke=\"gray\" d=\"M 141 128 327 354\"/>\n<path stroke-width=\"1\" stroke=\"gray\" d=\"M 387 765 298 616\"/>\n<path stroke-width=\"1\" stroke=\"gray\" d=\"M 919 984 628 611\"/>\n<path stroke-width=\"1\" stroke=\"gray\" d=\"M 1167 998 937 809\"/>\n<path stroke-width=\"1\" stroke=\"gray\" d=\"M 509 626 707 495\"/>\n<path stroke-width=\"1\" stroke=\"gray\" d=\"M 509 626 467 504\"/>\n<path stroke-width=\"1\" stroke=\"gray\" d=\"M 509 626 670 709\"/>\n<path stroke-width=\"1\" stroke=\"gray\" d=\"M 509 626 444 467\"/>\n<path stroke-width=\"1\" stroke=\"gray\" d=\"M 509 626 596 775\"/>\n<path stroke-width=\"1\" stroke=\"gray\" d=\"M 509 626 501 468\"/>\n<path stroke-width=\"1\" stroke=\"gray\" d=\"M 509 626 670 547\"/>\n<path stroke-width=\"1\" stroke=\"gray\" d=\"M 509 626 496 427\"/>\n<path stroke-width=\"1\" stroke=\"gray\" d=\"M 509 626 565 622\"/>\n<path stroke-width=\"1\" stroke=\"gray\" d=\"M 509 626 479 568\"/>\n<path stroke-width=\"1\" stroke=\"gray\" d=\"M 509 626 666 875\"/>\n<path stroke-width=\"1\" stroke=\"gray\" d=\"M 509 626 195 804\"/>\n<path stroke-width=\"1\" stroke=\"gray\" d=\"M 509 626 161 726\"/>\n<path stroke-width=\"1\" stroke=\"gray\" d=\"M 509 626 591 579\"/>\n<path stroke-width=\"1\" stroke=\"gray\" d=\"M 509 626 628 611\"/>\n<path stroke-width=\"1\" stroke=\"gray\" d=\"M 509 626 644 367\"/>\n<path stroke-width=\"1\" stroke=\"gray\" d=\"M 509 626 772 591\"/>\n<path stroke-width=\"1\" stroke=\"gray\" d=\"M 509 626 537 391\"/>\n<path stroke-width=\"1\" stroke=\"gray\" d=\"M 509 626 387 765\"/>\n<path stroke-width=\"1\" stroke=\"gray\" d=\"M 509 626 365 542\"/>\n<path stroke-width=\"1\" stroke=\"gray\" d=\"M 509 626 505 395\"/>\n<path stroke-width=\"1\" stroke=\"gray\" d=\"M 167 486 404 453\"/>\n<path stroke-width=\"1\" stroke=\"gray\" d=\"M 167 486 381 579\"/>\n<path stroke-width=\"1\" stroke=\"gray\" d=\"M 254 595 297 489\"/>\n<path stroke-width=\"1\" stroke=\"gray\" d=\"M 254 595 101 557\"/>\n<path stroke-width=\"1\" stroke=\"gray\" d=\"M 254 595 617 467\"/>\n<path stroke-width=\"1\" stroke=\"gray\" d=\"M 956 376 889 464\"/>\n<path stroke-width=\"1\" stroke=\"gray\" d=\"M 956 376 653 435\"/>\n<path stroke-width=\"1\" stroke=\"gray\" d=\"M 436 506 505 395\"/>\n<path stroke-width=\"1\" stroke=\"gray\" d=\"M 436 506 365 542\"/>\n<path stroke-width=\"1\" stroke=\"gray\" d=\"M 468 331 416 349\"/>\n<path stroke-width=\"1\" stroke=\"gray\" d=\"M 468 331 363 460\"/>\n<path stroke-width=\"1\" stroke=\"gray\" d=\"M 468 331 368 375\"/>\n<path stroke-width=\"1\" stroke=\"gray\" d=\"M 468 331 327 354\"/>\n<path stroke-width=\"1\" stroke=\"gray\" d=\"M 468 331 455 542\"/>\n<path stroke-width=\"1\" stroke=\"gray\" d=\"M 628 611 653 435\"/>\n<path stroke-width=\"1\" stroke=\"gray\" d=\"M 628 611 937 809\"/>\n<path stroke-width=\"1\" stroke=\"gray\" d=\"M 628 611 479 568\"/>\n<path stroke-width=\"1\" stroke=\"gray\" d=\"M 628 611 446 375\"/>\n<path stroke-width=\"1\" stroke=\"gray\" d=\"M 628 611 509 626\"/>\n<path stroke-width=\"1\" stroke=\"gray\" d=\"M 628 611 537 391\"/>\n<path stroke-width=\"1\" stroke=\"gray\" d=\"M 628 611 381 579\"/>\n<path stroke-width=\"1\" stroke=\"gray\" d=\"M 628 611 919 984\"/>\n<path stroke-width=\"1\" stroke=\"gray\" d=\"M 534 268 404 453\"/>\n<path stroke-width=\"1\" stroke=\"gray\" d=\"M 628 611 617 467\"/>\n<path stroke-width=\"1\" stroke=\"gray\" d=\"M 628 611 455 542\"/>\n<path stroke-width=\"1\" stroke=\"gray\" d=\"M 436 506 297 489\"/>\n<path stroke-width=\"1\" stroke=\"gray\" d=\"M 436 506 467 504\"/>\n<path stroke-width=\"1\" stroke=\"gray\" d=\"M 436 506 653 435\"/>\n<path stroke-width=\"1\" stroke=\"gray\" d=\"M 436 506 501 468\"/>\n<path stroke-width=\"1\" stroke=\"gray\" d=\"M 436 506 496 427\"/>\n<path stroke-width=\"1\" stroke=\"gray\" d=\"M 436 506 565 622\"/>\n<path stroke-width=\"1\" stroke=\"gray\" d=\"M 436 506 479 568\"/>\n<path stroke-width=\"1\" stroke=\"gray\" d=\"M 436 506 591 579\"/>\n<path stroke-width=\"1\" stroke=\"gray\" d=\"M 436 506 381 579\"/>\n<path stroke-width=\"1\" stroke=\"gray\" d=\"M 436 506 368 375\"/>\n<path stroke-width=\"1\" stroke=\"gray\" d=\"M 436 506 327 354\"/>\n<path stroke-width=\"1\" stroke=\"gray\" d=\"M 436 506 455 542\"/>\n<path stroke-width=\"1\" stroke=\"gray\" d=\"M 628 611 327 354\"/>\n<path stroke-width=\"1\" stroke=\"gray\" d=\"M 534 268 537 391\"/>\n<path stroke-width=\"1\" stroke=\"gray\" d=\"M 534 268 617 467\"/>\n<path stroke-width=\"1\" stroke=\"gray\" d=\"M 534 268 505 395\"/>\n<path stroke-width=\"1\" stroke=\"gray\" d=\"M 557 469 381 579\"/>\n<path stroke-width=\"1\" stroke=\"gray\" d=\"M 381 579 467 504\"/>\n<path stroke-width=\"1\" stroke=\"gray\" d=\"M 381 579 479 568\"/>\n<path stroke-width=\"1\" stroke=\"gray\" d=\"M 381 579 121 495\"/>\n<path stroke-width=\"1\" stroke=\"gray\" d=\"M 381 579 628 611\"/>\n<path stroke-width=\"1\" stroke=\"gray\" d=\"M 381 579 436 506\"/>\n<path stroke-width=\"1\" stroke=\"gray\" d=\"M 381 579 167 486\"/>\n<path stroke-width=\"1\" stroke=\"gray\" d=\"M 381 579 557 469\"/>\n<path stroke-width=\"1\" stroke=\"gray\" d=\"M 381 579 416 349\"/>\n<path stroke-width=\"1\" stroke=\"gray\" d=\"M 381 579 495 887\"/>\n<path stroke-width=\"1\" stroke=\"gray\" d=\"M 381 579 436 608\"/>\n<path stroke-width=\"1\" stroke=\"gray\" d=\"M 381 579 363 460\"/>\n<path stroke-width=\"1\" stroke=\"gray\" d=\"M 381 579 368 375\"/>\n<path stroke-width=\"1\" stroke=\"gray\" d=\"M 557 469 468 331\"/>\n<path stroke-width=\"1\" stroke=\"gray\" d=\"M 416 349 599 380\"/>\n<path stroke-width=\"1\" stroke=\"gray\" d=\"M 416 349 468 331\"/>\n<path stroke-width=\"1\" stroke=\"gray\" d=\"M 416 349 381 579\"/>\n<path stroke-width=\"1\" stroke=\"gray\" d=\"M 416 349 455 542\"/>\n<path stroke-width=\"1\" stroke=\"gray\" d=\"M 521 521 467 504\"/>\n<path stroke-width=\"1\" stroke=\"gray\" d=\"M 521 521 501 468\"/>\n<path stroke-width=\"1\" stroke=\"gray\" d=\"M 521 521 619 516\"/>\n<path stroke-width=\"1\" stroke=\"gray\" d=\"M 521 521 670 547\"/>\n<path stroke-width=\"1\" stroke=\"gray\" d=\"M 521 521 591 579\"/>\n<path stroke-width=\"1\" stroke=\"gray\" d=\"M 521 521 436 608\"/>\n<path stroke-width=\"1\" stroke=\"gray\" d=\"M 521 521 368 375\"/>\n<path stroke-width=\"1\" stroke=\"gray\" d=\"M 521 521 327 354\"/>\n<path stroke-width=\"1\" stroke=\"gray\" d=\"M 495 887 381 579\"/>\n<path stroke-width=\"1\" stroke=\"gray\" d=\"M 919 984 1087 1220\"/>\n<path stroke-width=\"1\" stroke=\"gray\" d=\"M 416 349 496 427\"/>\n<path stroke-width=\"1\" stroke=\"gray\" d=\"M 919 984 1101 1154\"/>\n<path stroke-width=\"1\" stroke=\"gray\" d=\"M 557 469 496 427\"/>\n<path stroke-width=\"1\" stroke=\"gray\" d=\"M 557 469 619 516\"/>\n<path stroke-width=\"1\" stroke=\"gray\" d=\"M 644 367 653 435\"/>\n<path stroke-width=\"1\" stroke=\"gray\" d=\"M 644 367 501 468\"/>\n<path stroke-width=\"1\" stroke=\"gray\" d=\"M 644 367 468 331\"/>\n<path stroke-width=\"1\" stroke=\"gray\" d=\"M 644 367 509 626\"/>\n<path stroke-width=\"1\" stroke=\"gray\" d=\"M 772 591 509 626\"/>\n<path stroke-width=\"1\" stroke=\"gray\" d=\"M 772 591 617 467\"/>\n<path stroke-width=\"1\" stroke=\"gray\" d=\"M 537 391 444 467\"/>\n<path stroke-width=\"1\" stroke=\"gray\" d=\"M 537 391 496 427\"/>\n<path stroke-width=\"1\" stroke=\"gray\" d=\"M 537 391 609 171\"/>\n<path stroke-width=\"1\" stroke=\"gray\" d=\"M 537 391 479 568\"/>\n<path stroke-width=\"1\" stroke=\"gray\" d=\"M 537 391 628 611\"/>\n<path stroke-width=\"1\" stroke=\"gray\" d=\"M 537 391 509 626\"/>\n<path stroke-width=\"1\" stroke=\"gray\" d=\"M 537 391 534 268\"/>\n<path stroke-width=\"1\" stroke=\"gray\" d=\"M 557 469 670 547\"/>\n<path stroke-width=\"1\" stroke=\"gray\" d=\"M 537 391 219 403\"/>\n<path stroke-width=\"1\" stroke=\"gray\" d=\"M 537 391 365 542\"/>\n<path stroke-width=\"1\" stroke=\"gray\" d=\"M 537 391 505 395\"/>\n<path stroke-width=\"1\" stroke=\"gray\" d=\"M 537 391 712 75\"/>\n<path stroke-width=\"1\" stroke=\"gray\" d=\"M 219 403 297 489\"/>\n<path stroke-width=\"1\" stroke=\"gray\" d=\"M 219 403 537 391\"/>\n<path stroke-width=\"1\" stroke=\"gray\" d=\"M 262 650 101 557\"/>\n<path stroke-width=\"1\" stroke=\"gray\" d=\"M 262 650 479 568\"/>\n<path stroke-width=\"1\" stroke=\"gray\" d=\"M 262 650 446 375\"/>\n<path stroke-width=\"1\" stroke=\"gray\" d=\"M 1220 901 937 809\"/>\n<path stroke-width=\"1\" stroke=\"gray\" d=\"M 557 469 467 504\"/>\n<path stroke-width=\"1\" stroke=\"gray\" d=\"M 557 469 670 709\"/>\n<path stroke-width=\"1\" stroke=\"gray\" d=\"M 557 469 501 468\"/>\n<path stroke-width=\"1\" stroke=\"gray\" d=\"M 557 469 377 227\"/>\n<path stroke-width=\"1\" stroke=\"gray\" d=\"M 537 391 455 542\"/>\n<path stroke-width=\"1\" stroke=\"gray\" d=\"M 141 128 244 245\"/>\n<circle cx=\"225\" cy=\"20\" r=\"1.5588235294117647\" style=\"fill:gray;stroke:black;stroke-width:1.0\"/>\n<circle cx=\"1101\" cy=\"1154\" r=\"1.5588235294117647\" style=\"fill:gray;stroke:black;stroke-width:1.0\"/>\n<circle cx=\"712\" cy=\"75\" r=\"3.235294117647059\" style=\"fill:gray;stroke:black;stroke-width:1.0\"/>\n<circle cx=\"937\" cy=\"633\" r=\"2.6764705882352944\" style=\"fill:gray;stroke:black;stroke-width:1.0\"/>\n<circle cx=\"505\" cy=\"395\" r=\"8.823529411764707\" style=\"fill:gray;stroke:black;stroke-width:1.0\"/>\n<circle cx=\"365\" cy=\"542\" r=\"6.029411764705882\" style=\"fill:gray;stroke:black;stroke-width:1.0\"/>\n<circle cx=\"455\" cy=\"542\" r=\"12.176470588235293\" style=\"fill:gray;stroke:black;stroke-width:1.0\"/>\n<circle cx=\"530\" cy=\"27\" r=\"2.6764705882352944\" style=\"fill:gray;stroke:black;stroke-width:1.0\"/>\n<circle cx=\"327\" cy=\"354\" r=\"20.0\" style=\"fill:gray;stroke:black;stroke-width:1.0\"/>\n<circle cx=\"617\" cy=\"467\" r=\"6.588235294117647\" style=\"fill:gray;stroke:black;stroke-width:1.0\"/>\n<circle cx=\"368\" cy=\"375\" r=\"7.147058823529412\" style=\"fill:gray;stroke:black;stroke-width:1.0\"/>\n<circle cx=\"363\" cy=\"460\" r=\"7.147058823529412\" style=\"fill:gray;stroke:black;stroke-width:1.0\"/>\n<circle cx=\"1108\" cy=\"773\" r=\"3.235294117647059\" style=\"fill:gray;stroke:black;stroke-width:1.0\"/>\n<circle cx=\"364\" cy=\"676\" r=\"3.7941176470588234\" style=\"fill:gray;stroke:black;stroke-width:1.0\"/>\n<circle cx=\"436\" cy=\"608\" r=\"9.382352941176471\" style=\"fill:gray;stroke:black;stroke-width:1.0\"/>\n<circle cx=\"387\" cy=\"765\" r=\"3.7941176470588234\" style=\"fill:gray;stroke:black;stroke-width:1.0\"/>\n<circle cx=\"919\" cy=\"984\" r=\"2.6764705882352944\" style=\"fill:gray;stroke:black;stroke-width:1.0\"/>\n<circle cx=\"495\" cy=\"887\" r=\"2.1176470588235294\" style=\"fill:gray;stroke:black;stroke-width:1.0\"/>\n<circle cx=\"521\" cy=\"521\" r=\"7.147058823529412\" style=\"fill:gray;stroke:black;stroke-width:1.0\"/>\n<circle cx=\"416\" cy=\"349\" r=\"5.470588235294118\" style=\"fill:gray;stroke:black;stroke-width:1.0\"/>\n<circle cx=\"381\" cy=\"579\" r=\"9.382352941176471\" style=\"fill:gray;stroke:black;stroke-width:1.0\"/>\n<circle cx=\"557\" cy=\"469\" r=\"11.058823529411764\" style=\"fill:gray;stroke:black;stroke-width:1.0\"/>\n<circle cx=\"1220\" cy=\"901\" r=\"2.6764705882352944\" style=\"fill:gray;stroke:black;stroke-width:1.0\"/>\n<circle cx=\"262\" cy=\"650\" r=\"3.7941176470588234\" style=\"fill:gray;stroke:black;stroke-width:1.0\"/>\n<circle cx=\"219\" cy=\"403\" r=\"2.1176470588235294\" style=\"fill:gray;stroke:black;stroke-width:1.0\"/>\n<circle cx=\"537\" cy=\"391\" r=\"8.264705882352942\" style=\"fill:gray;stroke:black;stroke-width:1.0\"/>\n<circle cx=\"772\" cy=\"591\" r=\"2.6764705882352944\" style=\"fill:gray;stroke:black;stroke-width:1.0\"/>\n<circle cx=\"644\" cy=\"367\" r=\"9.382352941176471\" style=\"fill:gray;stroke:black;stroke-width:1.0\"/>\n<circle cx=\"534\" cy=\"268\" r=\"6.029411764705882\" style=\"fill:gray;stroke:black;stroke-width:1.0\"/>\n<circle cx=\"254\" cy=\"595\" r=\"3.235294117647059\" style=\"fill:gray;stroke:black;stroke-width:1.0\"/>\n<circle cx=\"167\" cy=\"486\" r=\"2.1176470588235294\" style=\"fill:gray;stroke:black;stroke-width:1.0\"/>\n<circle cx=\"509\" cy=\"626\" r=\"12.735294117647058\" style=\"fill:gray;stroke:black;stroke-width:1.0\"/>\n<circle cx=\"1167\" cy=\"998\" r=\"2.6764705882352944\" style=\"fill:gray;stroke:black;stroke-width:1.0\"/>\n<circle cx=\"956\" cy=\"376\" r=\"7.147058823529412\" style=\"fill:gray;stroke:black;stroke-width:1.0\"/>\n<circle cx=\"436\" cy=\"506\" r=\"11.058823529411764\" style=\"fill:gray;stroke:black;stroke-width:1.0\"/>\n<circle cx=\"628\" cy=\"611\" r=\"7.705882352941177\" style=\"fill:red;stroke:black;stroke-width:1.0\"/>\n<circle cx=\"468\" cy=\"331\" r=\"16.088235294117645\" style=\"fill:gray;stroke:black;stroke-width:1.0\"/>\n<circle cx=\"591\" cy=\"579\" r=\"13.294117647058824\" style=\"fill:gray;stroke:black;stroke-width:1.0\"/>\n<circle cx=\"363\" cy=\"841\" r=\"2.6764705882352944\" style=\"fill:gray;stroke:black;stroke-width:1.0\"/>\n<circle cx=\"161\" cy=\"726\" r=\"2.1176470588235294\" style=\"fill:gray;stroke:black;stroke-width:1.0\"/>\n<circle cx=\"468\" cy=\"125\" r=\"4.352941176470589\" style=\"fill:gray;stroke:black;stroke-width:1.0\"/>\n<circle cx=\"195\" cy=\"804\" r=\"8.264705882352942\" style=\"fill:gray;stroke:black;stroke-width:1.0\"/>\n<circle cx=\"666\" cy=\"875\" r=\"2.1176470588235294\" style=\"fill:gray;stroke:black;stroke-width:1.0\"/>\n<circle cx=\"446\" cy=\"375\" r=\"4.911764705882353\" style=\"fill:gray;stroke:black;stroke-width:1.0\"/>\n<circle cx=\"121\" cy=\"495\" r=\"4.911764705882353\" style=\"fill:gray;stroke:black;stroke-width:1.0\"/>\n<circle cx=\"1087\" cy=\"1220\" r=\"3.235294117647059\" style=\"fill:gray;stroke:black;stroke-width:1.0\"/>\n<circle cx=\"889\" cy=\"464\" r=\"6.588235294117647\" style=\"fill:gray;stroke:black;stroke-width:1.0\"/>\n<circle cx=\"297\" cy=\"397\" r=\"6.588235294117647\" style=\"fill:gray;stroke:black;stroke-width:1.0\"/>\n<circle cx=\"436\" cy=\"189\" r=\"3.7941176470588234\" style=\"fill:gray;stroke:black;stroke-width:1.0\"/>\n<circle cx=\"479\" cy=\"568\" r=\"13.852941176470589\" style=\"fill:gray;stroke:black;stroke-width:1.0\"/>\n<circle cx=\"314\" cy=\"48\" r=\"3.235294117647059\" style=\"fill:gray;stroke:black;stroke-width:1.0\"/>\n<circle cx=\"609\" cy=\"171\" r=\"3.7941176470588234\" style=\"fill:gray;stroke:black;stroke-width:1.0\"/>\n<circle cx=\"937\" cy=\"809\" r=\"4.352941176470589\" style=\"fill:gray;stroke:black;stroke-width:1.0\"/>\n<circle cx=\"515\" cy=\"98\" r=\"2.6764705882352944\" style=\"fill:gray;stroke:black;stroke-width:1.0\"/>\n<circle cx=\"565\" cy=\"622\" r=\"8.264705882352942\" style=\"fill:gray;stroke:black;stroke-width:1.0\"/>\n<circle cx=\"301\" cy=\"131\" r=\"3.235294117647059\" style=\"fill:gray;stroke:black;stroke-width:1.0\"/>\n<circle cx=\"496\" cy=\"427\" r=\"11.058823529411764\" style=\"fill:gray;stroke:black;stroke-width:1.0\"/>\n<circle cx=\"670\" cy=\"547\" r=\"8.823529411764707\" style=\"fill:gray;stroke:black;stroke-width:1.0\"/>\n<circle cx=\"619\" cy=\"516\" r=\"7.147058823529412\" style=\"fill:gray;stroke:black;stroke-width:1.0\"/>\n<circle cx=\"377\" cy=\"227\" r=\"4.352941176470589\" style=\"fill:gray;stroke:black;stroke-width:1.0\"/>\n<circle cx=\"129\" cy=\"238\" r=\"8.823529411764707\" style=\"fill:gray;stroke:black;stroke-width:1.0\"/>\n<circle cx=\"840\" cy=\"364\" r=\"3.7941176470588234\" style=\"fill:gray;stroke:black;stroke-width:1.0\"/>\n<circle cx=\"20\" cy=\"423\" r=\"2.1176470588235294\" style=\"fill:gray;stroke:black;stroke-width:1.0\"/>\n<circle cx=\"86\" cy=\"255\" r=\"4.911764705882353\" style=\"fill:gray;stroke:black;stroke-width:1.0\"/>\n<circle cx=\"501\" cy=\"468\" r=\"11.617647058823529\" style=\"fill:gray;stroke:black;stroke-width:1.0\"/>\n<circle cx=\"596\" cy=\"775\" r=\"2.6764705882352944\" style=\"fill:gray;stroke:black;stroke-width:1.0\"/>\n<circle cx=\"1062\" cy=\"958\" r=\"4.352941176470589\" style=\"fill:gray;stroke:black;stroke-width:1.0\"/>\n<circle cx=\"495\" cy=\"927\" r=\"2.6764705882352944\" style=\"fill:gray;stroke:black;stroke-width:1.0\"/>\n<circle cx=\"444\" cy=\"467\" r=\"5.470588235294118\" style=\"fill:gray;stroke:black;stroke-width:1.0\"/>\n<circle cx=\"599\" cy=\"380\" r=\"4.352941176470589\" style=\"fill:gray;stroke:black;stroke-width:1.0\"/>\n<circle cx=\"944\" cy=\"273\" r=\"2.1176470588235294\" style=\"fill:gray;stroke:black;stroke-width:1.0\"/>\n<circle cx=\"670\" cy=\"709\" r=\"6.588235294117647\" style=\"fill:gray;stroke:black;stroke-width:1.0\"/>\n<circle cx=\"404\" cy=\"453\" r=\"14.411764705882353\" style=\"fill:gray;stroke:black;stroke-width:1.0\"/>\n<circle cx=\"653\" cy=\"435\" r=\"10.5\" style=\"fill:gray;stroke:black;stroke-width:1.0\"/>\n<circle cx=\"298\" cy=\"616\" r=\"5.470588235294118\" style=\"fill:gray;stroke:black;stroke-width:1.0\"/>\n<circle cx=\"101\" cy=\"557\" r=\"3.7941176470588234\" style=\"fill:gray;stroke:black;stroke-width:1.0\"/>\n<circle cx=\"244\" cy=\"245\" r=\"8.264705882352942\" style=\"fill:gray;stroke:black;stroke-width:1.0\"/>\n<circle cx=\"735\" cy=\"266\" r=\"4.352941176470589\" style=\"fill:gray;stroke:black;stroke-width:1.0\"/>\n<circle cx=\"562\" cy=\"82\" r=\"2.6764705882352944\" style=\"fill:gray;stroke:black;stroke-width:1.0\"/>\n<circle cx=\"467\" cy=\"504\" r=\"10.5\" style=\"fill:gray;stroke:black;stroke-width:1.0\"/>\n<circle cx=\"707\" cy=\"495\" r=\"3.7941176470588234\" style=\"fill:gray;stroke:black;stroke-width:1.0\"/>\n<circle cx=\"34\" cy=\"224\" r=\"7.705882352941177\" style=\"fill:gray;stroke:black;stroke-width:1.0\"/>\n<circle cx=\"297\" cy=\"489\" r=\"9.382352941176471\" style=\"fill:gray;stroke:black;stroke-width:1.0\"/>\n<circle cx=\"141\" cy=\"128\" r=\"3.235294117647059\" style=\"fill:gray;stroke:black;stroke-width:1.0\"/>\n<text text-anchor=\"start\" x=\"230\" y=\"20\" font-size=\"12\">Aaron Brink</text><text text-anchor=\"start\" x=\"1105\" y=\"1154\" font-size=\"12\">Abdul-Kerim Edilov</text><text text-anchor=\"start\" x=\"718\" y=\"75\" font-size=\"12\">Adam Milstead</text><text text-anchor=\"start\" x=\"942\" y=\"633\" font-size=\"12\">Adam Wieczorek</text><text text-anchor=\"start\" x=\"516\" y=\"395\" font-size=\"12\">Aleksei Oleinik</text><text text-anchor=\"start\" x=\"374\" y=\"542\" font-size=\"12\">Alexander Volkov</text><text text-anchor=\"start\" x=\"470\" y=\"542\" font-size=\"12\">Alistair Overeem</text><text text-anchor=\"start\" x=\"536\" y=\"27\" font-size=\"12\">Allen Crowder</text><text text-anchor=\"start\" x=\"350\" y=\"354\" font-size=\"12\">Andrei Arlovski</text><text text-anchor=\"start\" x=\"627\" y=\"467\" font-size=\"12\">Anthony Hamilton</text><text text-anchor=\"start\" x=\"379\" y=\"375\" font-size=\"12\">Antonio Rodrigo Nogueira</text><text text-anchor=\"start\" x=\"373\" y=\"460\" font-size=\"12\">Antonio Silva</text><text text-anchor=\"start\" x=\"1115\" y=\"773\" font-size=\"12\">Arjan Bhullar</text><text text-anchor=\"start\" x=\"371\" y=\"676\" font-size=\"12\">Augusto Sakai</text><text text-anchor=\"start\" x=\"449\" y=\"608\" font-size=\"12\">Ben Rothwell</text><text text-anchor=\"start\" x=\"393\" y=\"765\" font-size=\"12\">Blagoy Ivanov</text><text text-anchor=\"start\" x=\"925\" y=\"984\" font-size=\"12\">Bojan Mihajlovic</text><text text-anchor=\"start\" x=\"500\" y=\"887\" font-size=\"12\">Brad Morris</text><text text-anchor=\"start\" x=\"531\" y=\"521\" font-size=\"12\">Brendan Schaub</text><text text-anchor=\"start\" x=\"425\" y=\"349\" font-size=\"12\">Brock Lesnar</text><text text-anchor=\"start\" x=\"393\" y=\"579\" font-size=\"12\">Cain Velasquez</text><text text-anchor=\"start\" x=\"571\" y=\"469\" font-size=\"12\">Cheick Kongo</text><text text-anchor=\"start\" x=\"1225\" y=\"901\" font-size=\"12\">Christian Colombo</text><text text-anchor=\"start\" x=\"269\" y=\"650\" font-size=\"12\">Ciryl Gane</text><text text-anchor=\"start\" x=\"224\" y=\"403\" font-size=\"12\">Cody East</text><text text-anchor=\"start\" x=\"548\" y=\"391\" font-size=\"12\">Curtis Blaydes</text><text text-anchor=\"start\" x=\"778\" y=\"591\" font-size=\"12\">Damian Grabowski</text><text text-anchor=\"start\" x=\"657\" y=\"367\" font-size=\"12\">Daniel Cormier</text><text text-anchor=\"start\" x=\"543\" y=\"268\" font-size=\"12\">Daniel Omielanczuk</text><text text-anchor=\"start\" x=\"261\" y=\"595\" font-size=\"12\">Daniel Spitz</text><text text-anchor=\"start\" x=\"172\" y=\"486\" font-size=\"12\">Denis Stojnic</text><text text-anchor=\"start\" x=\"525\" y=\"626\" font-size=\"12\">Derrick Lewis</text><text text-anchor=\"start\" x=\"1173\" y=\"998\" font-size=\"12\">Dmitrii Smoliakov</text><text text-anchor=\"start\" x=\"966\" y=\"376\" font-size=\"12\">Fabio Maldonado</text><text text-anchor=\"start\" x=\"450\" y=\"506\" font-size=\"12\">Fabricio Werdum</text><text text-anchor=\"start\" x=\"639\" y=\"611\" font-size=\"12\">Francis Ngannou</text><text text-anchor=\"start\" x=\"487\" y=\"331\" font-size=\"12\">Frank Mir</text><text text-anchor=\"start\" x=\"607\" y=\"579\" font-size=\"12\">Gabriel Gonzaga</text><text text-anchor=\"start\" x=\"369\" y=\"841\" font-size=\"12\">Gilbert Yvel</text><text text-anchor=\"start\" x=\"166\" y=\"726\" font-size=\"12\">Guto Inocente</text><text text-anchor=\"start\" x=\"475\" y=\"125\" font-size=\"12\">Ian Freeman</text><text text-anchor=\"start\" x=\"206\" y=\"804\" font-size=\"12\">Ilir Latifi</text><text text-anchor=\"start\" x=\"671\" y=\"875\" font-size=\"12\">Jack May</text><text text-anchor=\"start\" x=\"454\" y=\"375\" font-size=\"12\">Jairzinho Rozenstruik</text><text text-anchor=\"start\" x=\"129\" y=\"495\" font-size=\"12\">Jake O'Brien</text><text text-anchor=\"start\" x=\"1094\" y=\"1220\" font-size=\"12\">Joachim Christensen</text><text text-anchor=\"start\" x=\"898\" y=\"464\" font-size=\"12\">Joey Beltran</text><text text-anchor=\"start\" x=\"306\" y=\"397\" font-size=\"12\">Josh Barnett</text><text text-anchor=\"start\" x=\"443\" y=\"189\" font-size=\"12\">Junior Albini</text><text text-anchor=\"start\" x=\"496\" y=\"568\" font-size=\"12\">Junior Dos Santos</text><text text-anchor=\"start\" x=\"320\" y=\"48\" font-size=\"12\">Justin Eilers</text><text text-anchor=\"start\" x=\"616\" y=\"171\" font-size=\"12\">Justin Willis</text><text text-anchor=\"start\" x=\"945\" y=\"809\" font-size=\"12\">Luis Henrique</text><text text-anchor=\"start\" x=\"521\" y=\"98\" font-size=\"12\">Marcel Fortuna</text><text text-anchor=\"start\" x=\"577\" y=\"622\" font-size=\"12\">Marcin Tybura</text><text text-anchor=\"start\" x=\"307\" y=\"131\" font-size=\"12\">Marcio Cruz</text><text text-anchor=\"start\" x=\"510\" y=\"427\" font-size=\"12\">Mark Hunt</text><text text-anchor=\"start\" x=\"682\" y=\"547\" font-size=\"12\">Matt Mitrione</text><text text-anchor=\"start\" x=\"629\" y=\"516\" font-size=\"12\">Mirko Filipovic</text><text text-anchor=\"start\" x=\"384\" y=\"227\" font-size=\"12\">Paul Buentello</text><text text-anchor=\"start\" x=\"141\" y=\"238\" font-size=\"12\">Pedro Rizzo</text><text text-anchor=\"start\" x=\"846\" y=\"364\" font-size=\"12\">Philip De Fries</text><text text-anchor=\"start\" x=\"25\" y=\"423\" font-size=\"12\">Philipe Lins</text><text text-anchor=\"start\" x=\"93\" y=\"255\" font-size=\"12\">Ricco Rodriguez</text><text text-anchor=\"start\" x=\"516\" y=\"468\" font-size=\"12\">Roy Nelson</text><text text-anchor=\"start\" x=\"602\" y=\"775\" font-size=\"12\">Ruan Potts</text><text text-anchor=\"start\" x=\"1069\" y=\"958\" font-size=\"12\">Ryan Spann</text><text text-anchor=\"start\" x=\"501\" y=\"927\" font-size=\"12\">Sergei Pavlovich</text><text text-anchor=\"start\" x=\"452\" y=\"467\" font-size=\"12\">Shamil Abdurakhimov</text><text text-anchor=\"start\" x=\"606\" y=\"380\" font-size=\"12\">Shane Carwin</text><text text-anchor=\"start\" x=\"950\" y=\"273\" font-size=\"12\">Shane del Rosario</text><text text-anchor=\"start\" x=\"680\" y=\"709\" font-size=\"12\">Shawn Jordan</text><text text-anchor=\"start\" x=\"422\" y=\"453\" font-size=\"12\">Stefan Struve</text><text text-anchor=\"start\" x=\"666\" y=\"435\" font-size=\"12\">Stipe Miocic</text><text text-anchor=\"start\" x=\"307\" y=\"616\" font-size=\"12\">Tai Tuivasa</text><text text-anchor=\"start\" x=\"107\" y=\"557\" font-size=\"12\">Tanner Boser</text><text text-anchor=\"start\" x=\"255\" y=\"245\" font-size=\"12\">Tim Sylvia</text><text text-anchor=\"start\" x=\"742\" y=\"266\" font-size=\"12\">Todd Duffee</text><text text-anchor=\"start\" x=\"567\" y=\"82\" font-size=\"12\">Tom Aspinall</text><text text-anchor=\"start\" x=\"481\" y=\"504\" font-size=\"12\">Travis Browne</text><text text-anchor=\"start\" x=\"713\" y=\"495\" font-size=\"12\">Viktor Pesta</text><text text-anchor=\"start\" x=\"44\" y=\"224\" font-size=\"12\">Vladimir Matyushenko</text><text text-anchor=\"start\" x=\"309\" y=\"489\" font-size=\"12\">Walt Harris</text><text text-anchor=\"start\" x=\"147\" y=\"128\" font-size=\"12\">Wesley Correira</text></svg>",
      "text/plain": [
       "<IPython.core.display.SVG object>"
      ]
     },
     "execution_count": 6,
     "metadata": {},
     "output_type": "execute_result"
    }
   ],
   "source": [
    "graph_fighter = get_fighterGraph(\"Francis Ngannou\", graph, max_order=2)\n",
    "\n",
    "# image = svg_graph(adjacency, node_weights=graph.node_weights, display_node_weight=False\n",
    "#                 , width=1200, height=1200\n",
    "#                 , node_size_max=5, edge_width_max=2\n",
    "#                 , display_edges = True, edge_color=\"gray\")\n",
    "\n",
    "image = svg_graph(graph_fighter[\"adjacency\"], node_weights=graph_fighter[\"node_weights\"]\n",
    "                    , display_edge_weight=False\n",
    "                    , names=graph_fighter[\"names\"]\n",
    "                    , width=1200, height=1200\n",
    "                    , labels=graph_fighter[\"labels\"]\n",
    "                    , label_colors=[\"gray\", \"red\"]\n",
    "                    )\n",
    "SVG(image)"
   ]
  },
  {
   "cell_type": "markdown",
   "metadata": {},
   "source": [
    "# GOATs"
   ]
  },
  {
   "cell_type": "code",
   "execution_count": 90,
   "metadata": {},
   "outputs": [],
   "source": [
    "import networkx as nx"
   ]
  },
  {
   "cell_type": "code",
   "execution_count": 91,
   "metadata": {},
   "outputs": [
    {
     "name": "stderr",
     "output_type": "stream",
     "text": [
      "C:\\Users\\leroy\\AppData\\Local\\Temp\\ipykernel_16472\\1436970925.py:1: DeprecationWarning: \n",
      "\n",
      "The scipy.sparse array containers will be used instead of matrices\n",
      "in Networkx 3.0. Use `from_scipy_sparse_array` instead.\n",
      "  G = nx.from_scipy_sparse_matrix(graph.adjacency)\n"
     ]
    }
   ],
   "source": [
    "G = nx.from_scipy_sparse_matrix(graph.adjacency)"
   ]
  },
  {
   "cell_type": "markdown",
   "metadata": {},
   "source": [
    "# TODO\n",
    "- Visualisation :\n",
    "    - use score to display intensity in the graph (use a measure of centrality computed on the whole graph to use all information) -> do some research on centrality and what would be interesting to display, maybe a way to \n",
    "- Find a way to assess \"strength\" of an mma fighter by this graph (concretely a function that rates the career of a fighter based on his opponents and opponents of opponents) -> do some research on graph summarization, graph scoring..."
   ]
  },
  {
   "cell_type": "markdown",
   "metadata": {},
   "source": [
    "# <>"
   ]
  },
  {
   "cell_type": "code",
   "execution_count": 92,
   "metadata": {},
   "outputs": [
    {
     "name": "stdout",
     "output_type": "stream",
     "text": [
      "Number of fighters : 2139\n",
      "Number of fights : 6012\n"
     ]
    }
   ],
   "source": [
    "# get data\n",
    "df_fights = pd.read_csv(\"data\\data.csv\")\n",
    "df_fighters = pd.melt(df_fights.loc[:, [\"R_fighter\", \"B_fighter\"]]).drop(columns=\"variable\"\n",
    "                ).rename(columns={\"value\":\"fighter\"}\n",
    "                ).groupby(\"fighter\"\n",
    "                ).agg({\"fighter\":\"count\"}\n",
    "                ).rename(columns={\"fighter\":\"count\"}\n",
    "                ).reset_index(\n",
    "                )\n",
    "\n",
    "print(f\"Number of fighters : {len(df_fighters)}\\nNumber of fights : {len(df_fights)}\")"
   ]
  },
  {
   "cell_type": "code",
   "execution_count": 93,
   "metadata": {},
   "outputs": [],
   "source": [
    "module_mma.add_nodeAttributes(G, df_fights, df_fighters)"
   ]
  },
  {
   "cell_type": "code",
   "execution_count": 95,
   "metadata": {},
   "outputs": [
    {
     "data": {
      "text/plain": [
       "{'primary_weightClass': 'Featherweight-Lightweight',\n",
       " 'Name': 'Aalon Cruz',\n",
       " 'mean_weight': 145.0,\n",
       " 'mean_weight_percentile': 25.596072931276296}"
      ]
     },
     "execution_count": 95,
     "metadata": {},
     "output_type": "execute_result"
    }
   ],
   "source": [
    "G.nodes[0]"
   ]
  },
  {
   "cell_type": "markdown",
   "metadata": {},
   "source": [
    "# Export"
   ]
  },
  {
   "cell_type": "code",
   "execution_count": 96,
   "metadata": {},
   "outputs": [],
   "source": [
    "nx.write_gexf(G, \"data/mma_fromnetworkx.gexf\")"
   ]
  }
 ],
 "metadata": {
  "kernelspec": {
   "display_name": "Python 3.10.4 ('mma-graph')",
   "language": "python",
   "name": "python3"
  },
  "language_info": {
   "codemirror_mode": {
    "name": "ipython",
    "version": 3
   },
   "file_extension": ".py",
   "mimetype": "text/x-python",
   "name": "python",
   "nbconvert_exporter": "python",
   "pygments_lexer": "ipython3",
   "version": "3.10.4"
  },
  "orig_nbformat": 4,
  "vscode": {
   "interpreter": {
    "hash": "7b495891f8764476a5063fa3e7f6bc7e6694d88897e31cc1c591b3b6a2def579"
   }
  }
 },
 "nbformat": 4,
 "nbformat_minor": 2
}
