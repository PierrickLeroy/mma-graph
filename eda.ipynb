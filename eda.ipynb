{
 "cells": [
  {
   "cell_type": "markdown",
   "metadata": {},
   "source": [
    "# Setup"
   ]
  },
  {
   "cell_type": "code",
   "execution_count": 1,
   "metadata": {},
   "outputs": [],
   "source": [
    "%reload_ext autoreload\n",
    "%autoreload 2"
   ]
  },
  {
   "cell_type": "code",
   "execution_count": 2,
   "metadata": {},
   "outputs": [],
   "source": [
    "import module_mma\n",
    "\n",
    "import pandas as pd\n",
    "import numpy as np\n",
    "\n",
    "import sknetwork as skn\n",
    "import networkx as nx\n",
    "from sknetwork.data import from_edge_list, from_adjacency_list, from_graphml, from_csv\n",
    "from sknetwork.visualization import svg_graph, svg_bigraph\n",
    "from scipy.sparse import csr_matrix\n",
    "from IPython.display import SVG"
   ]
  },
  {
   "cell_type": "code",
   "execution_count": 8,
   "metadata": {},
   "outputs": [
    {
     "name": "stdout",
     "output_type": "stream",
     "text": [
      "Number of fighters : 2139\n",
      "Number of fights : 6012\n"
     ]
    },
    {
     "name": "stderr",
     "output_type": "stream",
     "text": [
      "C:\\Users\\leroy\\AppData\\Local\\Temp\\ipykernel_484\\2516177054.py:16: DeprecationWarning: \n",
      "\n",
      "The scipy.sparse array containers will be used instead of matrices\n",
      "in Networkx 3.0. Use `from_scipy_sparse_array` instead.\n",
      "  G = nx.from_scipy_sparse_matrix(graph.adjacency)\n"
     ]
    }
   ],
   "source": [
    "# get data\n",
    "df_fights = pd.read_csv(\"data\\data.csv\")\n",
    "df_fighters = pd.melt(df_fights.loc[:, [\"R_fighter\", \"B_fighter\"]]).drop(columns=\"variable\"\n",
    "                ).rename(columns={\"value\":\"fighter\"}\n",
    "                ).groupby(\"fighter\"\n",
    "                ).agg({\"fighter\":\"count\"}\n",
    "                ).rename(columns={\"fighter\":\"count\"}\n",
    "                ).reset_index(\n",
    "                )\n",
    "print(f\"Number of fighters : {len(df_fighters)}\\nNumber of fights : {len(df_fights)}\")\n",
    "\n",
    "# create graph\n",
    "edge_list = list(df_fights.loc[:, [\"R_fighter\", \"B_fighter\"]].itertuples(index=False))\n",
    "graph = from_edge_list(edge_list)\n",
    "graph.node_weights = df_fighters[\"count\"].values\n",
    "G = nx.from_scipy_sparse_matrix(graph.adjacency)\n",
    "module_mma.add_nodeAttributes(G, df_fights, df_fighters)"
   ]
  },
  {
   "cell_type": "code",
   "execution_count": null,
   "metadata": {},
   "outputs": [],
   "source": []
  },
  {
   "cell_type": "markdown",
   "metadata": {},
   "source": [
    "# Export"
   ]
  },
  {
   "cell_type": "code",
   "execution_count": 7,
   "metadata": {},
   "outputs": [],
   "source": [
    "nx.write_gexf(G, \"data/mma_fromnetworkx.gexf\")"
   ]
  },
  {
   "cell_type": "markdown",
   "metadata": {},
   "source": [
    "# <>"
   ]
  }
 ],
 "metadata": {
  "kernelspec": {
   "display_name": "Python 3.10.4 ('mma-graph')",
   "language": "python",
   "name": "python3"
  },
  "language_info": {
   "codemirror_mode": {
    "name": "ipython",
    "version": 3
   },
   "file_extension": ".py",
   "mimetype": "text/x-python",
   "name": "python",
   "nbconvert_exporter": "python",
   "pygments_lexer": "ipython3",
   "version": "3.10.4 | packaged by conda-forge | (main, Mar 30 2022, 08:38:02) [MSC v.1916 64 bit (AMD64)]"
  },
  "orig_nbformat": 4,
  "vscode": {
   "interpreter": {
    "hash": "7b495891f8764476a5063fa3e7f6bc7e6694d88897e31cc1c591b3b6a2def579"
   }
  }
 },
 "nbformat": 4,
 "nbformat_minor": 2
}
