{
 "cells": [
  {
   "cell_type": "code",
   "execution_count": 1,
   "metadata": {},
   "outputs": [],
   "source": [
    "%reload_ext autoreload\n",
    "%autoreload 2"
   ]
  },
  {
   "cell_type": "code",
   "execution_count": 2,
   "metadata": {},
   "outputs": [],
   "source": [
    "import authentic_performance as ap\n",
    "from scipy.stats import uniform, norm\n",
    "import networkx as nx\n",
    "import numpy as np\n",
    "import pandas as pd"
   ]
  },
  {
   "attachments": {},
   "cell_type": "markdown",
   "metadata": {},
   "source": [
    "# <>"
   ]
  },
  {
   "cell_type": "code",
   "execution_count": 3,
   "metadata": {},
   "outputs": [],
   "source": [
    "def generate_nodes(n, strengths):\n",
    "    G =  nx.DiGraph()\n",
    "    G.add_nodes_from(range(n))\n",
    "    nx.set_node_attributes(G, {k:{\"strength\":v} for k, v in dict(zip(range(n), strengths)).items()})\n",
    "    nx.set_node_attributes(G, {k:{\"fraud\":False} for k in range(n)})\n",
    "    return G\n",
    "\n",
    "def specify_fraudster(G, index=0, strength=None):\n",
    "    if strength is not None:\n",
    "        nx.set_node_attributes(G, {index:{\"strength\":strength}})\n",
    "    nx.set_node_attributes(G, {index:{\"fraud\":True}})\n",
    "\n",
    "def generate_edges(n, p, strengths):\n",
    "    G = nx.erdos_renyi_graph(n, p)\n",
    "    df = pd.DataFrame(G.edges, columns=[\"v1\", \"v2\"]).merge(pd.Series(strengths, name=\"v1_strength\"), left_on=\"v1\", right_index=True\n",
    "                                                          ).merge(pd.Series(strengths, name=\"v2_strength\"), left_on=\"v2\", right_index=True)\n",
    "    df[\"target\"] = np.where(df[\"v1_strength\"] > df[\"v2_strength\"], df[\"v1\"], df[\"v2\"])\n",
    "    df[\"source\"] = np.where(df[\"v1_strength\"] > df[\"v2_strength\"], df[\"v2\"], df[\"v1\"])\n",
    "    return df[[\"source\", \"target\"]].values\n",
    "\n",
    "def generate_fraudstersEdges(G, n, strengths, fraud_probability=0.5):\n",
    "    list_fraudsters = [x for x, y in G.nodes(data=True) if y[\"fraud\"]]\n",
    "    for f in list_fraudsters:\n",
    "        f_strength = G.nodes[f][\"strength\"]\n",
    "        f_degree = G.degree[f]\n",
    "        G.remove_node(f)\n",
    "        G.add_node(f, strength=f_strength, fraud=True)\n",
    "        n_fraudulous_links = round(f_degree*fraud_probability)\n",
    "        n_regular_links = f_degree - n_fraudulous_links\n",
    "        easy_win_neighbours = np.random.choice((np.nonzero(strengths<f_strength))[0], n_fraudulous_links, replace=False)\n",
    "        regular_neighbours = np.random.choice(np.nonzero(~np.isin(np.array(range(n)), np.append(easy_win_neighbours, f)))[0], n_regular_links, replace=False)\n",
    "        fraudulous_links = [(source, f) for source in easy_win_neighbours]\n",
    "        regular_links = list(zip(np.where(strengths[regular_neighbours]>f_strength, f, regular_neighbours),\n",
    "                 np.where(strengths[regular_neighbours]>f_strength, regular_neighbours, f)))\n",
    "        G.add_edges_from(fraudulous_links, fraudulous=True)\n",
    "        G.add_edges_from(regular_links, fraudulous=False)\n",
    "        # return fraudulous_links, regular_links\n",
    "    \n",
    "def generate_network(n, p, distribution=uniform, fraudster_index=0, fraudster_strength=None):\n",
    "    strengths = distribution.rvs(size=n)\n",
    "    G = generate_nodes(n, strengths)\n",
    "    G.add_edges_from(generate_edges(n, p, strengths))\n",
    "    specify_fraudster(G, index=fraudster_index, strength=fraudster_strength)\n",
    "    generate_fraudstersEdges(G, n, strengths, fraud_probability=0.5)\n",
    "    return G"
   ]
  },
  {
   "cell_type": "code",
   "execution_count": 4,
   "metadata": {},
   "outputs": [],
   "source": [
    "n = 100\n",
    "distribution = uniform\n",
    "p = 10/n\n",
    "fraud_probability=0.1\n",
    "\n",
    "G = generate_network(n, p, distribution, fraudster_strength=distribution.expect())\n",
    "nx.write_gexf(G, \"gephi_viz/synthetic.gexf\")"
   ]
  },
  {
   "cell_type": "code",
   "execution_count": null,
   "metadata": {},
   "outputs": [],
   "source": []
  }
 ],
 "metadata": {
  "kernelspec": {
   "display_name": "mma2",
   "language": "python",
   "name": "python3"
  },
  "language_info": {
   "codemirror_mode": {
    "name": "ipython",
    "version": 3
   },
   "file_extension": ".py",
   "mimetype": "text/x-python",
   "name": "python",
   "nbconvert_exporter": "python",
   "pygments_lexer": "ipython3",
   "version": "3.10.9"
  },
  "orig_nbformat": 4
 },
 "nbformat": 4,
 "nbformat_minor": 2
}
